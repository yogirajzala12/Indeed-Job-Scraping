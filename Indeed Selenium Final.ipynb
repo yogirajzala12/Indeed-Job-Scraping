{
 "cells": [
  {
   "cell_type": "code",
   "execution_count": 20,
   "metadata": {},
   "outputs": [],
   "source": [
    "import time\n",
    "from selenium import webdriver\n",
    "import re\n",
    "import os\n",
    "import csv\n",
    "from datetime import datetime\n",
    "from msedge.selenium_tools import Edge, EdgeOptions\n",
    "from selenium.common.exceptions import NoSuchElementException, ElementNotInteractableException\n",
    "import pandas as pd\n",
    "from pandas_profiling import ProfileReport"
   ]
  },
  {
   "cell_type": "code",
   "execution_count": 21,
   "metadata": {},
   "outputs": [],
   "source": [
    "os.chdir(r'C:\\Users\\zalay\\Downloads\\python')"
   ]
  },
  {
   "cell_type": "code",
   "execution_count": 22,
   "metadata": {},
   "outputs": [],
   "source": [
    "def get_url(position, location):\n",
    "    \"\"\"Generate url from position and location\"\"\"\n",
    "    template = 'https://ca.indeed.com/jobs?q={}&l={}'\n",
    "    position = position.replace(' ', '+')\n",
    "    location = location.replace(' ', '+')\n",
    "    url = template.format(position, location)\n",
    "    return url"
   ]
  },
  {
   "cell_type": "code",
   "execution_count": 23,
   "metadata": {},
   "outputs": [],
   "source": [
    "def save_data_to_file(records):\n",
    "    \"\"\"Save data to csv file\"\"\"\n",
    "    with open('results.csv', 'w', newline='', encoding='utf-8') as f:\n",
    "        writer = csv.writer(f)\n",
    "        writer.writerow(['JobTitle', 'Company', 'Location', 'PostDate', 'Summary', 'JobUrl'])\n",
    "        writer.writerows(records)\n",
    "    df = pd.DataFrame (records, columns = ['job_title', 'company', 'location', 'post_date', 'summary', 'job_url'])"
   ]
  },
  {
   "cell_type": "code",
   "execution_count": 24,
   "metadata": {},
   "outputs": [],
   "source": [
    "def get_record(card):\n",
    "    \"\"\"Extract job data from single card\"\"\"\n",
    "    job_title = card.find_element_by_class_name('jcs-JobTitle').text\n",
    "    company = card.find_element_by_class_name('companyName').text\n",
    "    location = card.find_element_by_class_name('companyLocation').text\n",
    "    post_date = card.find_element_by_class_name('date').text\n",
    "    summary = card.find_element_by_class_name('job-snippet').text\n",
    "    job_url = card.find_element_by_class_name('jcs-JobTitle').get_attribute('href')\n",
    "    return (job_title, company, location, post_date, summary, job_url)"
   ]
  },
  {
   "cell_type": "code",
   "execution_count": 25,
   "metadata": {},
   "outputs": [],
   "source": [
    "def get_page_records(cards, job_list, url_set):\n",
    "    \"\"\"Extract all cards from the page\"\"\"\n",
    "    for card in cards:\n",
    "        record = get_record(card)\n",
    "        # add if job title exists and not duplicate\n",
    "        if record[0] and record[-1] not in url_set:\n",
    "            job_list.append(record)\n",
    "            url_set.add(record[-1])"
   ]
  },
  {
   "cell_type": "code",
   "execution_count": 26,
   "metadata": {},
   "outputs": [],
   "source": [
    "def main(position, location):\n",
    "    \"\"\"Run the main program routine\"\"\"\n",
    "    scraped_jobs = []\n",
    "    scraped_urls = set()\n",
    "    \n",
    "    url = get_url(position, location)\n",
    "    \n",
    "    # setup web driver\n",
    "    driver = webdriver.Chrome()\n",
    "    driver.get(url)        \n",
    "    driver.implicitly_wait(10)\n",
    "    # extract the job data\n",
    "    while True:\n",
    "        cards = driver.find_elements_by_class_name('job_seen_beacon')\n",
    "        get_page_records(cards, scraped_jobs, scraped_urls)\n",
    "        try:\n",
    "            driver.find_element_by_xpath('//a[@aria-label=\"Next Page\"]').click()\n",
    "        except NoSuchElementException:\n",
    "            break\n",
    "        except ElementNotInteractableException:\n",
    "            driver.find_element_by_id('popover-x').click() \n",
    "            get_page_records(cards, scraped_jobs, scraped_urls)\n",
    "            continue\n",
    "        except:\n",
    "            break\n",
    "    \n",
    "    # close driver and save records\n",
    "    driver.quit()\n",
    "    save_data_to_file(scraped_jobs)"
   ]
  },
  {
   "cell_type": "code",
   "execution_count": 27,
   "metadata": {},
   "outputs": [],
   "source": [
    "main('data analysis', 'canada')"
   ]
  }
 ],
 "metadata": {
  "kernelspec": {
   "display_name": "Python 3",
   "language": "python",
   "name": "python3"
  },
  "language_info": {
   "codemirror_mode": {
    "name": "ipython",
    "version": 3
   },
   "file_extension": ".py",
   "mimetype": "text/x-python",
   "name": "python",
   "nbconvert_exporter": "python",
   "pygments_lexer": "ipython3",
   "version": "3.8.3"
  }
 },
 "nbformat": 4,
 "nbformat_minor": 4
}
